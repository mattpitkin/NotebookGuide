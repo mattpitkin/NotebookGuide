{
 "cells": [
  {
   "cell_type": "markdown",
   "metadata": {},
   "source": [
    "# Using a Jupyter Notebook\n",
    "\n",
    "So, what is a Jupyter Notebook? Well, to quote their [website](https://jupyter.org/) _\"[A] Jupyter Notebook is an open-source web application that allows you to create and share documents that contain live code, equations, visualizations and narrative text.\"_. What this means is that it provides an application that runs on a webserver, and can be accessed via a standard web browser, within which you can write and run code, make plots, and write notes, all on one place. This makes it particularly useful for lab work as you can document what you're doing as you do it.\n",
    "\n",
    "This document aims to give a very brief description, and some handy hints, to using a [Jupyter Notebook](#notebook) in your lab work. Here, I will only make reference to using a notebook with a Python [kernel](#kernel) (although kernels for [other languages](https://github.com/jupyter/jupyter/wiki/Jupyter-kernels) can be used!), but this will not provide a general introduction to Python, so for that you might want to look [elsewhere](https://www.google.com/search?q=python+tutorial+for+beginners). It is written particularly in mind of honours level undergraduate students in [Physics & Astronomy](https://www.gla.ac.uk/schools/physics/) at the [University of Glasgow](https://www.gla.ac.uk), and as such some comments will relate specifically them (which I'll highlight <span style=\"text-shadow: 0.5px 0.5px 0.5px lightgrey; border: 1px solid Azure; border-radius: 2px; background-color: Azure; box-shadow: 0.5px 0.5px 2px SkyBlue;\">with a box</span>), although most of the document should be generally applicable.\n",
    "\n",
    "The full documentation for Jupyter Notebooks can be found [here](https://jupyter-notebook.readthedocs.io). For a far more comprehensive guide to using Jupyter Notebooks in a learning and teaching environment there is an online book called [_\"Teaching and Learning with Jupyter\"_](https://jupyter4edu.github.io/jupyter-edu-book/), which may be useful."
   ]
  },
  {
   "cell_type": "markdown",
   "metadata": {},
   "source": [
    "## Getting started\n",
    "\n",
    "When you start a Jupyter Notebook you may be presented with a browser window that looks like a directory tree structure called the \"Dashboard view\":\n",
    "\n",
    "<img alt=\"Tree\" src=\"img/tree.png\" style=\"box-shadow: 2px 2px 5px Gainsboro; margin-top: 15px; width: 950px\"/>\n",
    "\n",
    "This is indeed a directory tree showing the directory structure of the path that you started the notebook in.\n",
    "\n",
    "<div style=\"margin-left: 25px; margin-right: 25px; margin-top: 15px; border: 1px solid Azure; border-radius: 2px; padding: 4px 4px 4px 4px; box-shadow: 0.5px 0.5px 2px SkyBlue; background-color: Azure; text-shadow: 0.5px 0.5px 0.5px lightgrey\">**Glasgow students**: on our internal Jupyter server this directory tree should be your own personal home directory on the server. You should see an `examples` directory that contains mainy useful examples, and some other advice on using a notebook.</div>\n",
    "\n",
    "If you were to click on the \"Running\" tab it would show you a list of any currently running notebooks.\n",
    "\n",
    "To start a new notebook you can click on the <span style=\"border: 0.5px solid black; border-radius: 1.5px; padding: 2px 2px 2px 2px\">New ⏷</span> button, on the right hand side of the screen, to reveal a dropdown menu of options such as those shown in the example below.\n",
    "\n",
    "<img alt=\"Tree with dropdown\" src=\"img/treedropdown.png\" style=\"box-shadow: 2px 2px 5px Gainsboro; margin-top: 15px; width: 950px\"/>\n",
    "\n",
    "The dropdown menu options under the \"`Notebook:`\" title are the selection of different [kernels](#kernel) that you could run your notebook with. In particular, these kernels might include different version of Python, or could be based on [virtual environments](https://docs.python.org/3/tutorial/venv.html) running with certain Python packages pre-installed. You may only have one option to choose from. To start a new notebook just click on the kernel you want to use.\n",
    "\n",
    "<div style=\"margin-left: 25px; margin-right: 25px; margin-top: 15px; border: 1px solid Azure; border-radius: 2px; padding: 4px 4px 4px 4px; box-shadow: 0.5px 0.5px 2px SkyBlue; background-color: Azure; text-shadow: 0.5px 0.5px 0.5px lightgrey\">**Glasgow students**: ask your lab demonstator which kernel you should use for your particular project, as some have certain useful packages pre-installed. In general, if there is no preference suggested just use the \"Python 3\" kernel.</div>\n",
    "\n",
    "> _Note_: in the dropdown menu there is also an \"`Other:`\" title, from which you can: open an empty text file to just do normal text editing; create a new folder; open a Linux terminal window in your home directory.\n",
    "\n",
    "When this opens you will be greeted by something looking like this:\n",
    "\n",
    "<img alt=\"Untitled Notebook\" src=\"img/untitlednotebook.png\" style=\"box-shadow: 2px 2px 5px Gainsboro; margin-top: 15px; width: 950px\"/>\n",
    "\n",
    "We will go through some of the basic features of this panel which are highlighted below:\n",
    "\n",
    "<img alt=\"Untitled Notebook Features\" src=\"img/notebookparts.png\" style=\"box-shadow: 2px 2px 5px Gainsboro; margin-top: 15px; width: 950px\">\n",
    "\n",
    "* **<font color=\"FireBrick\">Notebook title</font>**: by default a new notebook opens with the name \"Untitled\" (and will be saved as `Untitled.ipynb` in your directory) - if you already have a notebook called \"Untitled\" then a new notebook will be called \"Untitled-1\" and so on. To change the title, and also the associated file name, just click on the area highlighted by the image above and write in the title you would like. It is important to chose a title/file name that makes it relatively easy for you to remember what is notebook contains. It is also important to name notebooks when you create them, so that you don't end up having multiple confusing `Untitled-X.ipynb` notebooks haing around!\n",
    "* <a name=\"runningkernel\"></a>**<font color=\"FireBrick\">Running kernel</font>**: this displays the name of the kernel that you chose when creating the notebook. If the kernel is not running, or there is some other problem with the kernel, it may be displayed in this area of the notebook.\n",
    "* **<font color=\"FireBrick\">Cell</font>**: [cells](#cells) (which will be discussed in more detail [below](#cells)) are the areas in the notebook into which you can input your code or text.\n",
    "* **<font color=\"FireBrick\">Cell type</font>**: if you click on the highlighted drop-down menu you will see four options for the \"type\" of the current cell that is highlighted. The two important basic options are:\n",
    "  * <a name=\"codetype\"></a>_Code_: select this (it is the default) for a cell that is to contain Python code;\n",
    "  * _Markdown_: select this for a cell that is to contain text (with [Markdown](#markdown) syntax allowed) to document the notebook.\n",
    "\n",
    "Now it's time to get started writing you notebook!"
   ]
  },
  {
   "cell_type": "markdown",
   "metadata": {},
   "source": [
    "## Cells\n",
    "\n",
    "A notebook consists of a set of cells containing documentation or code. An empty [\"Code-type\"](#codetype) cell will look like this:"
   ]
  },
  {
   "cell_type": "code",
   "execution_count": null,
   "metadata": {
    "collapsed": true
   },
   "outputs": [],
   "source": []
  },
  {
   "cell_type": "markdown",
   "metadata": {},
   "source": [
    "If you click on the cell its border will turn green and you can edit its contents. The `In` to the left of the cell indicates that it's an _input_ cell, i.e., one that defines the input code that is to be run. The empty square brackets `[ ]` after the in will contain information about the order in which that cell was run.\n",
    "\n",
    "Let's put some code into a cell:"
   ]
  },
  {
   "cell_type": "code",
   "execution_count": 1,
   "metadata": {},
   "outputs": [
    {
     "data": {
      "text/plain": [
       "-0.977530117665097"
      ]
     },
     "execution_count": 1,
     "metadata": {},
     "output_type": "execute_result"
    }
   ],
   "source": [
    "import numpy as np  # import the NumPy Python module (and call it np as shorthand)\n",
    "\n",
    "frequency = 2.3  # a floating-point number variable called frequency\n",
    "phi = 4.5\n",
    "times = np.linspace(0., 10, 10000000)  # an array of values\n",
    "\n",
    "wavesin = np.sin(2.*np.pi*frequency*times + phi)  # a sine wave!\n",
    "\n",
    "# show the first value of wave in an output cell\n",
    "wavesin[0]"
   ]
  },
  {
   "cell_type": "markdown",
   "metadata": {},
   "source": [
    "The cell above contains some Python code to evaluate the [sine](https://en.wikipedia.org/wiki/Sine) function for a particular frequency and initial phase at a set of times. The last line, containing `wavesin[0]`, just outputs the first value (in the zeroth position in the array) of the evaluated sine function, which can be seen in the output cell below, called <span style=\"font-family: monospace; color: red\">Out [1]</span>.\n",
    "\n",
    "Code in a cell isn't run automatically, so you have to tell the notebook to run the cell. Before you have run the cell the variables won't exist in the notebooks memory, but will just be text in the cell.\n",
    "\n",
    "<div style=\"margin-left: 25px; margin-right: 25px; margin-top: 15px; border: 1px solid red; border-radius: 2px; padding: 4px 4px 4px 4px; box-shadow: 0.5px 0.5px 2px red; text-shadow: 0.5px 0.5px 0.5px lightgrey\">**Note**: if you declare a variable, or define a class or function in a cell, but then don't run the cell, it won't exist in memory and you will not be able to use it in future cells.</div>\n",
    "\n",
    "To run a cell the simplest way to do it is to make sure the cell is highlighted and press <span style=\"border: 0.5px solid black; border-radius: 3px; padding: 2px 2px 2px 2px; box-shadow: 2px 2px 2px lightgrey\">Shift ⇧</span> + <span style=\"border: 0.5px solid black; border-radius: 3px; padding: 2px 2px 2px 2px; box-shadow: 2px 2px 2px lightgrey\">Return ⏎</span>. It can also be achieved by clicking on the \"Cell\" tab at the top of the notebook \n",
    "\n",
    "While the cell is running the square brackets next to `In` will contain an asterisk, i.e., <span style=\"font-family: monospace; color: blue\">In [*]</span> (the circle next to the [_Running kernel_](#runningkernel) will also be filled, and you may have a spinning egg timing in your browsers tab heading). When it has finished run the code a number will appear in the square brackets indicating the order that the cell was run since starting the notebook. In our example above this is <span style=\"font-family: monospace; color: blue\">In [1]</span> for the first cell to be run. The output cell will also have the number of the associated input cell: <span style=\"font-family: monospace; color: red\">Out [1]</span>.\n",
    "\n",
    "Now that the cell has been run and variables declared in it, e.g., `frequency`, are held in memory and can be used in subsequent cells. It is also interesting to note that that the output value also becomes a value that you can use, e.g.: "
   ]
  },
  {
   "cell_type": "code",
   "execution_count": 2,
   "metadata": {},
   "outputs": [
    {
     "name": "stdout",
     "output_type": "stream",
     "text": [
      "-0.977530117665097\n"
     ]
    }
   ],
   "source": [
    "print(Out[1])"
   ]
  },
  {
   "cell_type": "markdown",
   "metadata": {},
   "source": [
    "Although, it is strongly recommended that you **do not do this** as it can be very dangerous if you change the cell ordering in the future.\n",
    "\n",
    "When a cell has run the notebook will, by default, create a new empty cell below it. We could then add code to this new cell making use of the variables we declared in the first cell, or declaring new variables:"
   ]
  },
  {
   "cell_type": "code",
   "execution_count": 3,
   "metadata": {},
   "outputs": [
    {
     "name": "stdout",
     "output_type": "stream",
     "text": [
      "-0.2107957994307797\n"
     ]
    }
   ],
   "source": [
    "wavecos = np.cos(2.*np.pi*frequency*times + phi)  # get the cosines\n",
    "\n",
    "print(wavecos[0])"
   ]
  },
  {
   "cell_type": "markdown",
   "metadata": {},
   "source": [
    "### Cell ordering\n",
    "\n",
    "It is very important to keep track of the order that you run cells in your notebook. The running of cells does not necessarily have to follow the ordering as they appear down the page. E.g., you could open two empty cells one after the other, declare a variable in the bottom one, run it, and then print that variable in the one above it. This can be seen in the example below cell <span style=\"font-family: monospace; color: blue\">In [4]</span> comes after, but the number shows that it was run first."
   ]
  },
  {
   "cell_type": "code",
   "execution_count": 5,
   "metadata": {},
   "outputs": [
    {
     "name": "stdout",
     "output_type": "stream",
     "text": [
      "My name is Matthew\n"
     ]
    }
   ],
   "source": [
    "print('My name is ' + myname)"
   ]
  },
  {
   "cell_type": "code",
   "execution_count": 4,
   "metadata": {
    "collapsed": true
   },
   "outputs": [],
   "source": [
    "myname = 'Matthew'"
   ]
  },
  {
   "cell_type": "markdown",
   "metadata": {},
   "source": [
    "This is obviously **not** a sensible thing to do, but it is possible and worth looking out for.\n",
    "\n",
    "Related to the above point, if you redefine a variable in a new cell, e.g., changing to `myname = Jennifer`, and then re-run a previous cell that uses it, but does not define it itself, then it is the **new value** that will be used. E.g., if you created a new cell with\n",
    "\n",
    "```python\n",
    "myname = 'Jennifer'\n",
    "```\n",
    "\n",
    "and re-ran cell <span style=\"font-family: monospace; color: blue\">In [5]</span>, it would now output:\n",
    "\n",
    "```\n",
    "My name is Jennifer\n",
    "```\n",
    "\n",
    "If you re-run an existing cell, its run number will increase accordingly. This can obscure the true order that all cells were run in, so again it is worth being careful."
   ]
  },
  {
   "cell_type": "markdown",
   "metadata": {},
   "source": [
    "## Using an existing notebook\n",
    "\n",
    "You can open and run an existing notebook within your directory tree. From the notebook [dashboard view](#dashboard) page you can just click on any notebook that you have available there. From within an open notebook page you can open an existing notebook by clicking on \"File\" in the top left corner and opening an instance of the dashboard from which you can select the notebook.\n",
    "\n",
    "If you open an existing notebook, the cells may contain input and output numbers, but this does not mean that they have been run in your current open kernel, it just shows the order they were run when the notebook was last used. So, none of the loaded modules or variables will exist in memory in your current kernel.\n",
    "\n",
    "<div style=\"margin-left: 25px; margin-right: 25px; margin-top: 15px; border: 1px solid red; border-radius: 2px; padding: 4px 4px 4px 4px; box-shadow: 0.5px 0.5px 2px red; text-shadow: 0.5px 0.5px 0.5px lightgrey\">**Note**: when you open an existing notebook none of its cells will have been run in your current kernel session. So, none of the modules it uses will have been imported and none of its variables will exist in memory. You must run the cells, individually or all together, as with a new notebook you created yourself.</div>"
   ]
  },
  {
   "cell_type": "markdown",
   "metadata": {},
   "source": [
    "## Debugging"
   ]
  },
  {
   "cell_type": "markdown",
   "metadata": {},
   "source": [
    "## Markdown"
   ]
  },
  {
   "cell_type": "markdown",
   "metadata": {},
   "source": [
    "## Plotting"
   ]
  },
  {
   "cell_type": "markdown",
   "metadata": {},
   "source": [
    "## Non-Jupyter/Python advice\n",
    "\n",
    "### Version control\n",
    "\n",
    "It should go without saying that backing up your work is **very important**! An important aspect of backing things up is having a history of how your work has progressed. This, in particular is useful for two (and probably many more) main reasons: i) you can go back and look at how you solved a problem, which can be useful when writing up you report, ii) if you muck something up, changes something you shouldn't have, or break your code in some way, then having a oft-backed-up history allows you to restore things to a state when they worked.\n",
    "\n",
    "### Finding help/debugging\n",
    "\n",
    "When coding [Google](http://www.google.com) is your greatest friend. If you have a coding problem or question the chances are someone else has had that issue in the past, and they may well have asked the internet for help. If you can try and come up with a succinct sentence that describes your problem then typing that into Google may quickly give you an answer (becoming a [google-fu](https://www.urbandictionary.com/define.php?term=google-fu) master can be tricky). Often that answer will come from a site such as [StackOverflow](https://stackoverflow.com/), which has a huge wealth of answers to all manner of coding questions. You should feel free to ask questions on StackOverflow yourself and you can often get an answer quite quickly - the community on there is usually nice, but unfortunetaly there are contributors who can be quite rude or snarky. If asking a question try to give as much information as possible about the nature of your problem, including a code snippet that would allow someone else to reproduce the problem if applicable (often known as a **m**inimal **w**orking **e**xample, or MWE). Try not to use it in a way that comes across as asking someone to _\"do my homework\"_, i.e., don't just say _\"I'm trying to write code for a Solar System simulator, can you tell me how?\"_.\n",
    "\n",
    "If you encounter a code problem try and break it down to the point at which the code fails."
   ]
  },
  {
   "cell_type": "markdown",
   "metadata": {},
   "source": [
    "## Glossary\n",
    "\n",
    "A glossary of some terms:\n",
    "\n",
    "* <a name=\"dashboard\"></a>Dashboard view: a browser window showing your directory structure on the Jupyter server with a tab to show any running notebooks. \n",
    "* <a name=\"notebook\"></a>[_Jupyter notebook_](https://jupyter.org/): _\"The Jupyter Notebook is an open-source web application that allows you to create and share documents that contain live code, equations, visualizations and narrative text.\"_\n",
    "* <a name=\"kernel\"></a>_kernel_: In the context of a Jupyter Notebook, the [‘kernel’](https://jupyter-client.readthedocs.io/en/stable/kernels.html#making-kernels-for-jupyter) is just the program that runs your code, e.g., a specific version of Python.\n",
    "* [_Markdown_](https://en.wikipedia.org/wiki/Markdown): a simple syntax for writing plain text that can be rendered more richly within a notebook cell."
   ]
  },
  {
   "cell_type": "code",
   "execution_count": 3,
   "metadata": {
    "collapsed": true
   },
   "outputs": [],
   "source": [
    "x = 1"
   ]
  },
  {
   "cell_type": "code",
   "execution_count": null,
   "metadata": {
    "collapsed": true
   },
   "outputs": [],
   "source": []
  }
 ],
 "metadata": {
  "kernelspec": {
   "display_name": "Python 2",
   "language": "python",
   "name": "python2"
  },
  "language_info": {
   "codemirror_mode": {
    "name": "ipython",
    "version": 2
   },
   "file_extension": ".py",
   "mimetype": "text/x-python",
   "name": "python",
   "nbconvert_exporter": "python",
   "pygments_lexer": "ipython2",
   "version": "2.7.12"
  }
 },
 "nbformat": 4,
 "nbformat_minor": 2
}
