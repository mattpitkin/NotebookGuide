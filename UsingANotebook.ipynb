{
 "cells": [
  {
   "cell_type": "markdown",
   "metadata": {},
   "source": [
    "# The basics of using a Jupyter Notebook\n",
    "\n",
    "[What is a Jupyter Notebook](https://nbviewer.jupyter.org/github/jupyter/notebook/blob/master/docs/source/examples/Notebook/What%20is%20the%20Jupyter%20Notebook.ipynb)? Well, to quote their [website](https://jupyter.org/) _\"[A] Jupyter Notebook is an open-source web application that allows you to create and share documents that contain live code, equations, visualizations and narrative text.\"_. What this means is that it provides an application that runs on a webserver, and can be accessed via a standard web browser, within which you can write and run code, make plots, and write notes, all on one place. This makes it particularly useful for lab work as you can document what you're doing as you do it.\n",
    "\n",
    "This document aims to give a very brief description, and some handy hints, to using a [Jupyter Notebook](#notebook). Here, I will only make reference to using a notebook with a [Python](https://www.python.org/) [kernel](#kernel) (although kernels for [other languages](https://github.com/jupyter/jupyter/wiki/Jupyter-kernels) can be used), but this document will _not_ provide a general introduction to Python, so for that you might want to look [elsewhere](https://www.google.com/search?q=python+tutorial+for+beginners). It is written particularly in mind of undergraduate students in [Physics & Astronomy](https://www.gla.ac.uk/schools/physics/) at the [University of Glasgow](https://www.gla.ac.uk), and as such some comments will relate specifically them (which I'll highlight <span style=\"text-shadow: 0.5px 0.5px 0.5px lightgrey; border: 1px solid Azure; border-radius: 2px; background-color: Azure; box-shadow: 0.5px 0.5px 2px SkyBlue;\">with a box</span>), although most of the document should be generally applicable.\n",
    "\n",
    "The full documentation for Jupyter Notebooks can be found [here](https://jupyter-notebook.readthedocs.io), with several useful example notebooks for beginners found [here](https://nbviewer.jupyter.org/github/jupyter/notebook/tree/master/docs/source/examples/Notebook/). For a far more comprehensive guide to using Jupyter Notebooks in a learning and teaching environment there is an online book called [_\"Teaching and Learning with Jupyter\"_](https://jupyter4edu.github.io/jupyter-edu-book/), which may be useful."
   ]
  },
  {
   "cell_type": "markdown",
   "metadata": {},
   "source": [
    "## Getting started\n",
    "\n",
    "Below I will assume that you have access to a Jupyter server that is already set up and for which you know the server URL and have permission to access it. If you want to install and run your own Jupyter Notebook server on your computer, some simple installation instructions can be found [here](https://jupyter.readthedocs.io/en/latest/install.html#install). [There are a couple of \"free\" online notebook servers that you can try out: [Google's Colaboratory](https://colab.research.google.com) and [Microsoft's Azure](https://notebooks.azure.com), both of which have slightly different interfaces to the standard Jupyter notebook.]\n",
    "\n",
    "When you point your web browser to the location of a running Jupyter server you should be presented with a browser window that looks like a directory tree structure, called the [\"Dashboard\"](https://jupyter-notebook.readthedocs.io/en/stable/ui_components.html#notebook-dashboard) (see also the basic notebook introduction [here](https://nbviewer.jupyter.org/github/jupyter/notebook/blob/master/docs/source/examples/Notebook/Notebook%20Basics.ipynb)):\n",
    "\n",
    "<img alt=\"Tree\" src=\"img/tree.png\" style=\"box-shadow: 2px 2px 5px Gainsboro; margin-top: 15px; width: 950px\"/>\n",
    "\n",
    "This _is_ a directory tree showing the structure of the path that the notebook server started in.\n",
    "\n",
    "<div style=\"margin-left: 25px; margin-right: 25px; margin-top: 15px; border: 1px solid Azure; border-radius: 2px; padding: 4px 4px 4px 4px; box-shadow: 0.5px 0.5px 2px SkyBlue; background-color: Azure; text-shadow: 0.5px 0.5px 0.5px lightgrey\"><b>Glasgow students</b>: on our internal Jupyter server this directory tree should be your own personal home directory on the server. You should see an <span style=\"font-family: monospace\">examples</span> directory that contains many useful examples, and some other advice on using a notebook.</div>\n",
    "\n",
    "If you were to click on the \"Running\" tab it would show you a list of any currently running notebooks.\n",
    "\n",
    "To start a new notebook you can click on the <span style=\"border: 1px solid #adadad; border-radius: 3px; padding: 2px 2px 2px 2px\">New ⏷</span> button, on the right hand side of the screen, to reveal a dropdown menu of options, such as those shown in the example below.\n",
    "\n",
    "<img alt=\"Tree with dropdown\" src=\"img/treedropdown.png\" style=\"box-shadow: 2px 2px 5px Gainsboro; margin-top: 15px; width: 950px\"/>\n",
    "\n",
    "The dropdown menu options under the \"Notebook\" heading are the selection of different [kernels](#kernel) that you could run your notebook with. In particular, these kernels might include different versions of Python, or could be based on [virtual environments](https://docs.python.org/3/tutorial/venv.html) running with certain Python packages pre-installed. You may only have one option to choose from. To start a new notebook just click on the kernel you want to use.\n",
    "\n",
    "<div style=\"margin-left: 25px; margin-right: 25px; margin-top: 15px; border: 1px solid Azure; border-radius: 2px; padding: 4px 4px 4px 4px; box-shadow: 0.5px 0.5px 2px SkyBlue; background-color: Azure; text-shadow: 0.5px 0.5px 0.5px lightgrey\"><b>Glasgow students</b>: ask your lab demonstator which kernel you should use for your particular project, as some have certain useful packages pre-installed. In general, if there is no preference suggested just use the \"Python 3\" kernel.</div>\n",
    "\n",
    "<div style=\"margin-left: 25px; margin-right: 25px; margin-top: 15px; border: 1px solid red; border-radius: 2px; padding: 4px 4px 4px 4px; box-shadow: 0.5px 0.5px 2px red; text-shadow: 0.5px 0.5px 0.5px lightgrey\"><b>Note</b>: In the dropdown menu there is also an \"Other\" section, from which you can: open an empty text file for <a href=\"https://jupyter-notebook.readthedocs.io/en/stable/ui_components.html#file-editor\">text editing</a>; create a new folder; or, open a Linux terminal window in your home directory.</div>\n",
    "\n",
    "When your new notebook opens you will be greeted by something looking like this:\n",
    "\n",
    "<img alt=\"Untitled Notebook\" src=\"img/untitlednotebook.png\" style=\"box-shadow: 2px 2px 5px Gainsboro; margin-top: 15px; width: 950px\"/>\n",
    "\n",
    "I will go through some of the basic features of this panel, which are highlighted below, but to find out more about these you can access an [interactive user interface tour](https://jupyter-notebook.readthedocs.io/en/stable/ui_components.html#interactive-user-interface-tour-of-the-notebook) by clicking on the notebook's \"Help\" tab and selecting \"User Interface Tour\", or look at the [official documentation](https://jupyter-notebook.readthedocs.io/en/stable/notebook.html#notebook-user-interface):\n",
    "\n",
    "<img alt=\"Untitled Notebook Features\" src=\"img/notebookparts.png\" style=\"box-shadow: 2px 2px 5px Gainsboro; margin-top: 15px; width: 950px\">\n",
    "\n",
    "* **<font color=\"FireBrick\">Notebook title</font>**: by default a new notebook opens with the name \"Untitled\" (and will be saved as `Untitled.ipynb` in your directory) - if you already have a notebook called \"Untitled\" then a new notebook will be called \"Untitled-1\" and so on. To change the title, and also the associated file name, just click on the area highlighted by the image above and write in the title you would like. It is important to chose a title/file name that makes it relatively easy for you to remember what the notebook contains. It is also important to name notebooks when you create them, so that you don't end up having multiple confusing `Untitled-X.ipynb` notebooks haing around!\n",
    "* <a name=\"runningkernel\"></a>**<font color=\"FireBrick\">Running kernel</font>**: this displays the name of the kernel that you chose when creating the notebook. If the kernel is not running, or there is some other problem with the kernel, it may be displayed in this area of the notebook.\n",
    "* **<font color=\"FireBrick\">Cell</font>**: [cells](#Cells) (which will be discussed in more detail [below](#Cells)) are the areas in the notebook into which you can input and run your code or input text.\n",
    "* <a name=\"celltype\"></a>**<font color=\"FireBrick\">Cell type</font>**: if you click on the highlighted drop-down menu you will see four options for the \"type\" of the current cell that is highlighted. The two important basic options are:\n",
    "  * <a name=\"codetype\"></a>[_Code_](https://jupyter-notebook.readthedocs.io/en/stable/notebook.html#code-cells): select this (it is the default) for a cell that is to contain Python code;\n",
    "  * [_Markdown_](https://jupyter-notebook.readthedocs.io/en/stable/notebook.html#markdown-cells): select this for a cell that is to contain text (with [Markdown](#markdown) syntax allowed) to document the notebook.\n",
    "\n",
    "<div style=\"margin-left: 25px; margin-right: 25px; margin-top: 15px; border: 1px solid red; border-radius: 2px; padding: 4px 4px 4px 4px; box-shadow: 0.5px 0.5px 2px red; text-shadow: 0.5px 0.5px 0.5px lightgrey\"><b>Tip</b>: it is good practice to immediately change your notebook name from the default of <b>Unititled</b> to something more useful. This will change the notebook's file name to something that is informative and prevent you from having multiple <span style=\"font-family: monospace\">Untitled-X.ipynb</span> style notebook files hanging around in your directory.</div>\n",
    "\n",
    "Now it's time to get started writing you notebook!"
   ]
  },
  {
   "cell_type": "markdown",
   "metadata": {},
   "source": [
    "## Cells\n",
    "\n",
    "A notebook consists of a set of cells containing documentation or code. An empty [\"Code-type\"](#codetype) cell will look like this:\n",
    "\n",
    "<img alt=\"Empty code cell\" src=\"img/emptycodecell.png\" style=\"box-shadow: 2px 2px 5px Gainsboro; margin-top: 15px; width: 950px\">\n",
    "\n",
    "If you click within the cell's border it will be highlighted, a green border will appear around it, and you can edit its contents (clicking to the left of the cell's border highlights it, with a blue border line, but you can't edit it). The <span style=\"font-family: monospace; color: blue\">In</span> to the left of the cell indicates that it's an _input_ cell, i.e., one that defines the input code that is to be run. The empty square brackets <span style=\"font-family: monospace; color: blue\">[ ]</span> after the <span style=\"font-family: monospace; color: blue\">In</span> will contain information about the order in which that cell was run.\n",
    "\n",
    "Let's put some code into a cell:"
   ]
  },
  {
   "cell_type": "code",
   "execution_count": 1,
   "metadata": {},
   "outputs": [
    {
     "data": {
      "text/plain": [
       "-0.977530117665097"
      ]
     },
     "execution_count": 1,
     "metadata": {},
     "output_type": "execute_result"
    }
   ],
   "source": [
    "import numpy as np  # import the NumPy Python module (and call it np as shorthand)\n",
    "\n",
    "frequency = 2.3  # a floating-point number variable called frequency\n",
    "phi = 4.5        # another floating-point number variable called phi\n",
    "times = np.linspace(0., 10, 10000000)  # an array of equally-spaced values\n",
    "\n",
    "wavesin = np.sin(2.*np.pi*frequency*times + phi)  # a sine wave!\n",
    "\n",
    "# show the first value of wave in an output cell\n",
    "wavesin[0]"
   ]
  },
  {
   "cell_type": "markdown",
   "metadata": {},
   "source": [
    "The cell above contains some Python code to evaluate the [sine](https://en.wikipedia.org/wiki/Sine) function for a particular frequency and initial phase at a set of times. The last line, containing `wavesin[0]`, just outputs the first value of the evaluated sine function, which can be seen in the output cell below, called <span style=\"font-family: monospace; color: red\">Out [1]</span>.\n",
    "\n",
    "#### Running a cell\n",
    "\n",
    "The above example cell has been run (i.e., the code has been executed and variables have been stored in memory), but code in a cell isn't run automatically, so you have to tell the notebook to run the cell. Before you have run the cell the variables won't exist in the notebook's memory, but will just exist as text in the cell.\n",
    "\n",
    "<div style=\"margin-left: 25px; margin-right: 25px; margin-top: 15px; border: 1px solid red; border-radius: 2px; padding: 4px 4px 4px 4px; box-shadow: 0.5px 0.5px 2px red; text-shadow: 0.5px 0.5px 0.5px lightgrey\"><b>Note</b>: if you declare a variable, or define a class or function in a cell, but then don't run the cell, it won't exist in the notebook's memory and you will not be able to use it in future cells.</div>\n",
    "\n",
    "There a several ways to run the currently highlighted cell:\n",
    "\n",
    "* the simplest way to run a cell is to press <span style=\"border: 0.5px solid black; border-radius: 3px; padding: 2px 2px 2px 2px; box-shadow: 2px 2px 2px lightgrey\">Shift ⇧</span> + <span style=\"border: 0.5px solid black; border-radius: 3px; padding: 2px 2px 2px 2px; box-shadow: 2px 2px 2px lightgrey\">Return ⏎</span>;\n",
    "* you can click on the <span style=\"border: 1px solid #adadad; border-radius: 3px; padding: 1px 4px 2px 4px;\"><i class=\"icon-step-forward fa fa-step-forward\"></i> Run</span> button in control panel;\n",
    "* you can click on the \"Cell\" tab at the top of the notebook and then chose \"Run Cells\".\n",
    "\n",
    "While the cell is running the square brackets next to <span style=\"font-family: monospace; color: blue\">In</span> will contain an asterisk, i.e., <span style=\"font-family: monospace; color: blue\">In [*]</span> (the circle next to the [_Running kernel_](#runningkernel) will also be filled, and you may have a spinning egg timer/hourglass in your browser's tab heading). When it has finished running the code, a number will appear in the square brackets indicating the order that the cell was run since starting the notebook. In our example above this is <span style=\"font-family: monospace; color: blue\">In [1]</span> as it was the first cell to be run. The output cell will also have the number of the associated input cell: <span style=\"font-family: monospace; color: red\">Out [1]</span>.\n",
    "\n",
    "Now that the cell has been run any variables declared in it, e.g., `frequency`, are held in memory and can be used in subsequent cells. It is also interesting to note that that the output value also becomes a value that you can use, e.g.: "
   ]
  },
  {
   "cell_type": "code",
   "execution_count": 2,
   "metadata": {},
   "outputs": [
    {
     "name": "stdout",
     "output_type": "stream",
     "text": [
      "-0.977530117665097\n"
     ]
    }
   ],
   "source": [
    "print(Out[1])"
   ]
  },
  {
   "cell_type": "markdown",
   "metadata": {},
   "source": [
    "Although, it is strongly recommended that you **do not** use output values as variables, as it can be dangerous if you change the cell ordering in the future.\n",
    "\n",
    "#### New cells\n",
    "\n",
    "When a code cell has been run using <span style=\"border: 0.5px solid black; border-radius: 3px; padding: 2px 2px 2px 2px; box-shadow: 2px 2px 2px lightgrey\">Shift ⇧</span> + <span style=\"border: 0.5px solid black; border-radius: 3px; padding: 2px 2px 2px 2px; box-shadow: 2px 2px 2px lightgrey\">Return ⏎</span> it will, by default, create a new empty cell below it. You can manually add new cells in a couple of ways:\n",
    "\n",
    "* clicking on the \"Insert\" tab and selecting \"Insert Cell Above\" or \"Insert Cell Below\" from the drop-down options, will insert a new cell above or below the currently highlighted one;\n",
    "* clicking on the <span style=\"border: 1px solid #adadad; border-radius: 3px; padding: 1px 4px 2px 4px;\">➕</span> button in the control panel will insert a new cell below the currently highlighted one.\n",
    "\n",
    "Generally, you'll be inserting cells below the current cell, but you may want to add a cell above, for example to add some new documentation to the cell that would naturally appear before it. You can move cells up and down using the <span style=\"border: 1px solid #adadad; padding: 1px 4px 2px 4px; border-radius: 2px\">🡹</span> and <span style=\"border: 1px solid #adadad; padding: 1px 4px 2px 4px; border-radius: 2px\">🡻</span> buttons, but as discussed [below](#Cell-ordering) cell ordering can be very important.\n",
    "\n",
    "We could then add code to this new cell making use of the variables we declared in the first cell, or declaring new variables:"
   ]
  },
  {
   "cell_type": "code",
   "execution_count": 3,
   "metadata": {},
   "outputs": [
    {
     "name": "stdout",
     "output_type": "stream",
     "text": [
      "-0.2107957994307797\n"
     ]
    }
   ],
   "source": [
    "wavecos = np.cos(2.*np.pi*frequency*times + phi)  # get the cosines\n",
    "\n",
    "print(wavecos[0])"
   ]
  },
  {
   "cell_type": "markdown",
   "metadata": {},
   "source": [
    "### Cell ordering\n",
    "\n",
    "It is very important to keep track of the order that you run cells in your notebook. The running of cells does not necessarily have to follow the ordering as they appear scrolling down the page in the notebook. E.g., you could open two empty cells one after the other, declare a variable in the bottom one, run it, and then print that variable in the one above it. This can be seen in the example below in which cell <span style=\"font-family: monospace; color: blue\">In [4]</span> comes after <span style=\"font-family: monospace; color: blue\">In [5]</span>, but the number shows that it was run first, so the `myname` variable exists in the notebook memory when the cell above is run."
   ]
  },
  {
   "cell_type": "code",
   "execution_count": 5,
   "metadata": {},
   "outputs": [
    {
     "name": "stdout",
     "output_type": "stream",
     "text": [
      "My name is Matthew\n"
     ]
    }
   ],
   "source": [
    "print('My name is ' + myname)"
   ]
  },
  {
   "cell_type": "code",
   "execution_count": 4,
   "metadata": {},
   "outputs": [],
   "source": [
    "myname = 'Matthew'"
   ]
  },
  {
   "cell_type": "markdown",
   "metadata": {},
   "source": [
    "This is obviously **not** a sensible thing to do, but it is possible and worth looking out for.\n",
    "\n",
    "Related to the above point, if you redefine a variable in a new cell, e.g., changing to `myname = 'Jennifer'`, and then re-run a previous cell that uses that variable, but that does not define it itself, then it is the **new value** that will be used. E.g., if you created a new cell containing\n",
    "\n",
    "<div style=\"background-color: #f7f7f7; border: 1px solid #cfcfcf; border-radius: 2px; padding: 4px 4px 4px 4px; font-family: monospace; margin-top: 15px; margin-bottom: 15px\">\n",
    "myname = 'Jennifer'\n",
    "</div>\n",
    "\n",
    "and then re-ran cell <span style=\"font-family: monospace; color: blue\">In [5]</span>, it would now output:\n",
    "\n",
    "My name is Jennifer\n",
    "\n",
    "If you re-run an existing cell, its run number will increase accordingly. It is a highly useful feature of a notebook that you can re-run a cell multiple times, as it allows you to edit, experiment with, and fix code, but it is worth noting that this can obscure the full ordering that all cells were run in.\n",
    "\n",
    "<div style=\"margin-left: 25px; margin-right: 25px; margin-top: 15px; border: 1px solid red; border-radius: 2px; padding: 4px 4px 4px 4px; box-shadow: 0.5px 0.5px 2px red; text-shadow: 0.5px 0.5px 0.5px lightgrey\"><b>Note</b>: if you redefine a variable, function, or class, it will overwrite the existing value, and the redefined value will be the one used in any further cells that are run, including if you re-run any previous cell that used (but did not define) that variable.</div>"
   ]
  },
  {
   "cell_type": "markdown",
   "metadata": {},
   "source": [
    "### Interrupting a cell\n",
    "\n",
    "If you find that a code cell is running for a particularly long time and you want to interrupt it, i.e., stop whatever it is doing, you can click on the <span style=\"border: 1px solid #adadad; border-radius: 3px; padding: 1px 4px 2px 4px;\">⏹</span> button in the control panel, or clink on the \"Kernel\" tab and select \"Interrupt\" from the drop-down menu. Often this will produce an error message in the cell output with information about what the code was doing at the time of the interruption."
   ]
  },
  {
   "cell_type": "markdown",
   "metadata": {},
   "source": [
    "### Markdown cells\n",
    "\n",
    "[Markdown cells](https://jupyter-notebook.readthedocs.io/en/stable/notebook.html#markdown-cells) allow you to add text documentation to you notebook using the simple [Markdown](#markdown) markup syntax to add richer features to the text. If you have a new cell you can change it from a code cell to a Markdown cell by clicking on the [cell type](#celltype) drop-down menu, and selecting \"Markdown\". The cell resulting cell will no longer have the <span style=\"font-family: monospace; color: blue\">In [ ]</span> to its left-hand side, and will look like:\n",
    "\n",
    "<img alt=\"Empty Markdown cell\" src=\"img/emptymarkdowncell.png\" style=\"box-shadow: 2px 2px 5px Gainsboro; margin-top: 15px; width: 950px\">\n",
    "\n",
    "You can then add text to it, and [run it](#Running-a-cell) to display the text with any Markdown syntax interpreted into a display format. The re-edit a Markdown cell that has already been run you have to double click on it.\n",
    "\n",
    "Here, I will show a few basics of the Markdown syntax, although more complete documentation can be found [here](https://daringfireball.net/projects/markdown/syntax), and similar examples of using it in a notebook can be found [here](https://nbviewer.jupyter.org/github/jupyter/notebook/blob/master/docs/source/examples/Notebook/Working%20With%20Markdown%20Cells.ipynb).\n",
    "\n",
    "#### Text highlighting\n",
    "\n",
    "Using italics, or a bold font, are simple in Markdown:\n",
    "\n",
    "* *italicise* with: `*italicise*` or `_italicise_`\n",
    "* **embolden** with: `**embolden**`\n",
    "\n",
    "If you want something in a [monospace](https://en.wikipedia.org/wiki/Monospaced_font) font you can use, e.g., ```` `monospace` ```` to produce `monospace` (this is formatted to include a greyish background and is useful for writing code blocks or variables in your text).\n",
    "\n",
    "#### Headings\n",
    "\n",
    "You can add headings by starting a line of text with a `#` (equivalent to a HTML [`<h1>` tag](https://www.w3schools.com/tags/tag_hn.asp)), or multiple `#`s for lower-level (smaller font) headers, e.g., having a cell containing:\n",
    "\n",
    "<div style=\"background-color: #f7f7f7; border: 1px solid #cfcfcf; border-radius: 2px; padding: 4px 4px 4px 4px; font-family: monospace; margin-top: 15px; margin-bottom: 15px\">\n",
    "# Header 1\n",
    "<br/><br/>\n",
    "## Header 2\n",
    "</div>\n",
    "\n",
    "which once run (with, e.g., <span style=\"border: 0.5px solid black; border-radius: 3px; padding: 2px 2px 2px 2px; box-shadow: 2px 2px 2px lightgrey\">Shift ⇧</span> + <span style=\"border: 0.5px solid black; border-radius: 3px; padding: 2px 2px 2px 2px; box-shadow: 2px 2px 2px lightgrey\">Return ⏎</span>) will produce:"
   ]
  },
  {
   "cell_type": "markdown",
   "metadata": {},
   "source": [
    "# Header 1\n",
    "\n",
    "## Header 2"
   ]
  },
  {
   "cell_type": "markdown",
   "metadata": {},
   "source": [
    "If you hover your cursor to the right of a header you can see a ¶ symbol, which provides a link to the location of the header. You can therefore include hyperlinks to specific bits of your notebook. To produce a link to \"Header 1\" in this example I would use, e.g.,:\n",
    "\n",
    "<div style=\"background-color: #f7f7f7; border: 1px solid #cfcfcf; border-radius: 2px; padding: 4px 4px 4px 4px; margin-top: 15px; margin-bottom: 15px\">\n",
    "`here is a [link to Header 1](#Header-1).`\n",
    "</div>\n",
    "\n",
    "which gives: here is a [link to Header 1](#Header-1).\n",
    "\n",
    "#### Hyperlinks\n",
    "\n",
    "You can more generally include hyperlinks to external websites using, e.g.,\n",
    "\n",
    "<div style=\"background-color: #f7f7f7; border: 1px solid #cfcfcf; border-radius: 2px; padding: 4px 4px 4px 4px; margin-top: 15px; margin-bottom: 15px\">\n",
    "`here is a link to [Google](http://www.google.com).`\n",
    "</div>\n",
    "\n",
    "which gives: here is a link to [Google](http://www.google.com).\n",
    "\n",
    "#### Images\n",
    "\n",
    "You can include local images (`jpg`, `png` or `gif` format) in Markdown cells using, e.g.,\n",
    "\n",
    "<div style=\"background-color: #f7f7f7; border: 1px solid #cfcfcf; border-radius: 2px; padding: 4px 4px 4px 4px; margin-top: 15px; margin-bottom: 15px\">\n",
    "`![An image of Jupiter. Credit: NASA/JPL](img/jupiter.jpg)`\n",
    "</div>\n",
    "\n",
    "to produce:\n",
    "\n",
    "![An image of Jupiter. Credit: NASA/JPL](img/jupiter.jpg)\n",
    "\n",
    "where in this case the image location is at the file path `img/jupiter.jpg` relative to the notebook. \n",
    "\n",
    "#### Bullet points\n",
    "\n",
    "You can write a series of bullet points, with multiple indents, e.g.:\n",
    "\n",
    "<div style=\"background-color: #f7f7f7; border: 1px solid #cfcfcf; border-radius: 2px; padding: 4px 4px 4px 4px; margin-top: 15px; margin-bottom: 15px; font-family: monospace\">\n",
    "&ast;&nbsp;point 1<br/>\n",
    "&ast;&nbsp;point 2<br/>\n",
    "&nbsp;&ast;&nbsp;sub-point 1<br/>\n",
    "&nbsp;&ast;&nbsp;sub-point 2<br/>\n",
    "&ast;&nbsp;point 3\n",
    "</div>\n",
    "\n",
    "produces:\n",
    "\n",
    "* point 1\n",
    "* point 2\n",
    " * sub-point 1\n",
    " * sub-point 2\n",
    "* point 3\n",
    "\n",
    "Or, numbered bullet points, e.g.,\n",
    "\n",
    "<div style=\"background-color: #f7f7f7; border: 1px solid #cfcfcf; border-radius: 2px; padding: 4px 4px 4px 4px; margin-top: 15px; margin-bottom: 15px; font-family: monospace\">\n",
    "1. point 1<br/>\n",
    "2. point 2<br/>\n",
    "&nbsp;1. sub-point 1<br/>\n",
    "&nbsp;2. sub-point 2<br/>\n",
    "3. point 3\n",
    "</div>\n",
    "\n",
    "produces:\n",
    "\n",
    "1. point 1\n",
    "2. point 2\n",
    " 1. sub-point 1\n",
    " 2. sub-point 2\n",
    "3. point 3\n",
    "\n",
    "#### Equations\n",
    "\n",
    "A great feature of the Markdown cells is that you can include equations using [LaTeX](https://en.wikipedia.org/wiki/LaTeX). You can include maths/equations inline within a sentence, e.g.,\n",
    "\n",
    "<div style=\"background-color: #f7f7f7; border: 1px solid #cfcfcf; border-radius: 2px; padding: 4px 4px 4px 4px; margin-top: 15px; margin-bottom: 15px; font-family: monospace\">\n",
    "I have a function, \\$f(t) = \\sin{}^2(\\phi)\\$, ...\n",
    "</div>\n",
    "\n",
    "produces: I have a function, $f(t) = \\sin{}^2(\\phi)$, ...\n",
    "\n",
    "Or, you can define some maths in a separate line, e.g.,\n",
    "\n",
    "<div style=\"background-color: #f7f7f7; border: 1px solid #cfcfcf; border-radius: 2px; padding: 4px 4px 4px 4px; margin-top: 15px; margin-bottom: 15px; font-family: monospace\">\n",
    "My long equation is:<br/>\n",
    "<br/>\n",
    "\\$\\$<br/>\n",
    "y = Ax + Bx^2 + Cx^3 + Dx^4 + Ex^5 + Fx^6 + Gx^7 + Hx^8<br/>\n",
    "\\$\\$\n",
    "</div>\n",
    "\n",
    "produces: My long equation is:\n",
    "\n",
    "$$\n",
    "y = Ax + Bx^2 + Cx^3 + Dx^4 + Ex^5 + Fx^6 + Gx^7 + Hx^8\n",
    "$$\n",
    "\n",
    "#### Code blocks\n",
    "\n",
    "If you wanted to write an example of a block of code in a Markdown cell there is a nice way to format it. For example, to add text describing a Python function you could write:\n",
    "\n",
    "    ```python\n",
    "    def myfunction(x)\n",
    "        return 2.0*x\n",
    "    ```\n",
    "\n",
    "which would produce:\n",
    "\n",
    "```python\n",
    "def myfunction(x):\n",
    "    return 2.0*x\n",
    "```\n",
    "\n",
    "where the inclusion of the `python` after the first set of <span style=\"font-family: monospace\">```</span> produces the nice colourful Python syntax highlighting!\n",
    "\n",
    "#### Block quotes\n",
    "\n",
    "You can include a block quote, such as [this nice quote](https://mygeekwisdom.com/2011/09/12/be-excellent-to-each-other/), with, e.g.,\n",
    "\n",
    "<div style=\"background-color: #f7f7f7; border: 1px solid #cfcfcf; border-radius: 2px; padding: 4px 4px 4px 4px; margin-top: 15px; margin-bottom: 15px; font-family: monospace\">\n",
    "&gt; Be excellent to each other.\n",
    "</div>\n",
    "\n",
    "to produce:\n",
    "\n",
    "> Be excellent to each other."
   ]
  },
  {
   "cell_type": "markdown",
   "metadata": {},
   "source": [
    "## Saving a notebook\n",
    "\n",
    "You can save the contents of the notebook in several ways:\n",
    "\n",
    "* by clicking on the <span style=\"border: 1px solid #adadad; border-radius: 3px; padding: 1px 4px 2px 4px;\">🖫</span> icon in the control panel;\n",
    "* by clicking on the \"File\" tab and selecting \"Save & Checkpoint\" from the drop-down menu\n",
    "* by pressing <span style=\"border: 0.5px solid black; border-radius: 3px; padding: 2px 2px 2px 2px; box-shadow: 2px 2px 2px lightgrey\">Ctrl</span> + <span style=\"border: 0.5px solid black; border-radius: 3px; padding: 2px 2px 2px 2px; box-shadow: 2px 2px 2px lightgrey\">s</span>.\n",
    "\n",
    "This also creates a \"Checkpoint\", which saves the entire state of the notebook, including variables in memory. If you need to you can revert the notebook to the last checkpointed state by clicking on on the \"File\" tab and selecting the checkpoint from the \"Revert to Checkpoint\" drop-down menu option.\n",
    "\n",
    "### Downloading a notebook\n",
    "\n",
    "You can also download the notebook as as pdf file, LaTeX file, or HTML document (among other things), which can be useful if you want to publish it in some way (e.g., including it in a project report or paper). To do this click on the \"File\" tab, hover over \"Download as\", and select the output format that you require. "
   ]
  },
  {
   "cell_type": "markdown",
   "metadata": {},
   "source": [
    "## Restarting a notebook\n",
    "\n",
    "If you want to restart a notebook from scratch, wiping it's current memory, you can click on the <span style=\"border: 1px solid #adadad; border-radius: 3px; padding: 1px 4px 2px 4px;\">⟳</span> button in the control panel, or click on the \"Kernel\" tab and select \"Restart\" from the dropdown menu. This will wipe the memory, but it will not clear any cell outputs or the current input/output cell numbering, e.g., the previous first-run cell will still be <span style=\"font-family: monospace; color: blue\">In&nbsp;[1]</span> even though the notebook's memory is in a state assuming no cells have been run. Any previous outputs and plots will also still be present.\n",
    "\n",
    "A more complete clearance can be made by instead selecting \"Restart & Clear Output\", which will wipe the previous run order, e.g. resetting inputs to <span style=\"font-family: monospace; color: blue\">In&nbsp;[&nbsp;]</span>, and removing any previous outputs. This is a cleaner way to do things, but you should make sure that anything that you would like to keep (plots or results) from the previous runs are saved/backed-up elsewhere.\n",
    "\n",
    "<div style=\"margin-left: 25px; margin-right: 25px; margin-top: 15px; border: 1px solid red; border-radius: 2px; padding: 4px 4px 4px 4px; box-shadow: 0.5px 0.5px 2px red; text-shadow: 0.5px 0.5px 0.5px lightgrey\"><b>Note</b>: if any of your notebook cells output data or plots to specific defined files, then when you re-run a notebook cell that outputs data, or restart and re-run the entire notebook, it will overwrite the current file <i>without any warning</i>. If you want to keep previous data you will need to manually change the file name (e.g., via the <a href=\"#dashboard\">dashboad</a> or make sure that the previous version is already commited into a <a href=\"#Version-control\">version control system</a>.</div>"
   ]
  },
  {
   "cell_type": "markdown",
   "metadata": {},
   "source": [
    "## Opening an existing notebook\n",
    "\n",
    "You can open and run an existing notebook within your directory tree. From the notebook [dashboard view](#dashboard) page you can just click on any notebook that you have available there. From within an open notebook page you can open an existing notebook by clicking on \"File\" in the top left corner and opening an instance of the dashboard from which you can select the notebook.\n",
    "\n",
    "If you open an existing notebook, the cells may contain input and output numbers, but this does not mean that they have been run in your currently open kernel, it just shows the order they were run when the notebook was last used. So, none of the loaded modules or variables will exist in memory in your current kernel.\n",
    "\n",
    "<div style=\"margin-left: 25px; margin-right: 25px; margin-top: 15px; border: 1px solid red; border-radius: 2px; padding: 4px 4px 4px 4px; box-shadow: 0.5px 0.5px 2px red; text-shadow: 0.5px 0.5px 0.5px lightgrey\"><b>Note</b>: when you open an existing notebook none of its cells will have been run in your current kernel session. So, none of the modules it uses will have been imported and none of its variables will exist in memory. You must run the cells, individually or all together, as with a new notebook you created yourself.</div>"
   ]
  },
  {
   "cell_type": "markdown",
   "metadata": {},
   "source": [
    "## Debugging\n",
    "\n",
    "It is inevitable that when coding you will create bugs, or get code errors. In a Jupyter Notebook cell, if there is an error when running the cell, it will often output some error message. I show an example of this below:"
   ]
  },
  {
   "cell_type": "code",
   "execution_count": 6,
   "metadata": {},
   "outputs": [
    {
     "ename": "TypeError",
     "evalue": "cannot concatenate 'str' and 'int' objects",
     "output_type": "error",
     "traceback": [
      "\u001b[0;31m---------------------------------------------------------------------------\u001b[0m",
      "\u001b[0;31mTypeError\u001b[0m                                 Traceback (most recent call last)",
      "\u001b[0;32m<ipython-input-6-c9796d1dc9d8>\u001b[0m in \u001b[0;36m<module>\u001b[0;34m()\u001b[0m\n\u001b[1;32m      2\u001b[0m \u001b[0;34m\u001b[0m\u001b[0m\n\u001b[1;32m      3\u001b[0m \u001b[0;31m# try and add 1 to the string!\u001b[0m\u001b[0;34m\u001b[0m\u001b[0;34m\u001b[0m\u001b[0m\n\u001b[0;32m----> 4\u001b[0;31m \u001b[0manumber\u001b[0m \u001b[0;34m=\u001b[0m \u001b[0mastring\u001b[0m \u001b[0;34m+\u001b[0m \u001b[0;36m1\u001b[0m\u001b[0;34m\u001b[0m\u001b[0m\n\u001b[0m",
      "\u001b[0;31mTypeError\u001b[0m: cannot concatenate 'str' and 'int' objects"
     ]
    }
   ],
   "source": [
    "astring = 'Hello'  # create a string variable\n",
    "\n",
    "# try and add 1 to the string!\n",
    "anumber = astring + 1"
   ]
  },
  {
   "cell_type": "markdown",
   "metadata": {},
   "source": [
    "You can see that there's a error \"Traceback\" where at the end it shows the error message\n",
    "\n",
    "```python\n",
    "TypeError: cannot concatenate 'str' and 'int' objects\n",
    "```\n",
    "\n",
    "indicating that, in this case, the problem was that the code is trying to combine a string type object (`str`) and an integer type object (`int`). Above that statement, it gives the position in your cell where that error occurred, i.e., at line number `4` with the statement `anumber = astring + 1`. This error is fairly easy to locate and track down. Note that cells do not explicity show line numbers, so if you have a long cell the line number may not be that helpful in locating the line that caused the error.\n",
    "\n",
    "If you are using functions or classes that you have not written, and that maybe themselves uses multiple other functions, then the error messages can be quite long. The point in your code that the error occurred will be at the top of the message, and the ultimate point of failure (which may be within other code) will be at the bottom, as shown in the example below:"
   ]
  },
  {
   "cell_type": "code",
   "execution_count": 8,
   "metadata": {},
   "outputs": [
    {
     "ename": "ValueError",
     "evalue": "If using all scalar values, you must pass an index",
     "output_type": "error",
     "traceback": [
      "\u001b[0;31m---------------------------------------------------------------------------\u001b[0m",
      "\u001b[0;31mValueError\u001b[0m                                Traceback (most recent call last)",
      "\u001b[0;32m<ipython-input-8-1dbe020e98e1>\u001b[0m in \u001b[0;36m<module>\u001b[0;34m()\u001b[0m\n\u001b[1;32m      1\u001b[0m \u001b[0;32mimport\u001b[0m \u001b[0mpandas\u001b[0m \u001b[0;32mas\u001b[0m \u001b[0mpd\u001b[0m\u001b[0;34m\u001b[0m\u001b[0m\n\u001b[1;32m      2\u001b[0m \u001b[0;34m\u001b[0m\u001b[0m\n\u001b[0;32m----> 3\u001b[0;31m \u001b[0mdf\u001b[0m \u001b[0;34m=\u001b[0m \u001b[0mpd\u001b[0m\u001b[0;34m.\u001b[0m\u001b[0mDataFrame\u001b[0m\u001b[0;34m(\u001b[0m\u001b[0;34m{\u001b[0m\u001b[0;34m'Hello'\u001b[0m\u001b[0;34m:\u001b[0m \u001b[0;36m1.2\u001b[0m\u001b[0;34m}\u001b[0m\u001b[0;34m)\u001b[0m\u001b[0;34m\u001b[0m\u001b[0m\n\u001b[0m",
      "\u001b[0;32m/usr/local/lib/python2.7/dist-packages/pandas/core/frame.pyc\u001b[0m in \u001b[0;36m__init__\u001b[0;34m(self, data, index, columns, dtype, copy)\u001b[0m\n\u001b[1;32m    346\u001b[0m                                  dtype=dtype, copy=copy)\n\u001b[1;32m    347\u001b[0m         \u001b[0;32melif\u001b[0m \u001b[0misinstance\u001b[0m\u001b[0;34m(\u001b[0m\u001b[0mdata\u001b[0m\u001b[0;34m,\u001b[0m \u001b[0mdict\u001b[0m\u001b[0;34m)\u001b[0m\u001b[0;34m:\u001b[0m\u001b[0;34m\u001b[0m\u001b[0m\n\u001b[0;32m--> 348\u001b[0;31m             \u001b[0mmgr\u001b[0m \u001b[0;34m=\u001b[0m \u001b[0mself\u001b[0m\u001b[0;34m.\u001b[0m\u001b[0m_init_dict\u001b[0m\u001b[0;34m(\u001b[0m\u001b[0mdata\u001b[0m\u001b[0;34m,\u001b[0m \u001b[0mindex\u001b[0m\u001b[0;34m,\u001b[0m \u001b[0mcolumns\u001b[0m\u001b[0;34m,\u001b[0m \u001b[0mdtype\u001b[0m\u001b[0;34m=\u001b[0m\u001b[0mdtype\u001b[0m\u001b[0;34m)\u001b[0m\u001b[0;34m\u001b[0m\u001b[0m\n\u001b[0m\u001b[1;32m    349\u001b[0m         \u001b[0;32melif\u001b[0m \u001b[0misinstance\u001b[0m\u001b[0;34m(\u001b[0m\u001b[0mdata\u001b[0m\u001b[0;34m,\u001b[0m \u001b[0mma\u001b[0m\u001b[0;34m.\u001b[0m\u001b[0mMaskedArray\u001b[0m\u001b[0;34m)\u001b[0m\u001b[0;34m:\u001b[0m\u001b[0;34m\u001b[0m\u001b[0m\n\u001b[1;32m    350\u001b[0m             \u001b[0;32mimport\u001b[0m \u001b[0mnumpy\u001b[0m\u001b[0;34m.\u001b[0m\u001b[0mma\u001b[0m\u001b[0;34m.\u001b[0m\u001b[0mmrecords\u001b[0m \u001b[0;32mas\u001b[0m \u001b[0mmrecords\u001b[0m\u001b[0;34m\u001b[0m\u001b[0m\n",
      "\u001b[0;32m/usr/local/lib/python2.7/dist-packages/pandas/core/frame.pyc\u001b[0m in \u001b[0;36m_init_dict\u001b[0;34m(self, data, index, columns, dtype)\u001b[0m\n\u001b[1;32m    457\u001b[0m             \u001b[0marrays\u001b[0m \u001b[0;34m=\u001b[0m \u001b[0;34m[\u001b[0m\u001b[0mdata\u001b[0m\u001b[0;34m[\u001b[0m\u001b[0mk\u001b[0m\u001b[0;34m]\u001b[0m \u001b[0;32mfor\u001b[0m \u001b[0mk\u001b[0m \u001b[0;32min\u001b[0m \u001b[0mkeys\u001b[0m\u001b[0;34m]\u001b[0m\u001b[0;34m\u001b[0m\u001b[0m\n\u001b[1;32m    458\u001b[0m \u001b[0;34m\u001b[0m\u001b[0m\n\u001b[0;32m--> 459\u001b[0;31m         \u001b[0;32mreturn\u001b[0m \u001b[0m_arrays_to_mgr\u001b[0m\u001b[0;34m(\u001b[0m\u001b[0marrays\u001b[0m\u001b[0;34m,\u001b[0m \u001b[0mdata_names\u001b[0m\u001b[0;34m,\u001b[0m \u001b[0mindex\u001b[0m\u001b[0;34m,\u001b[0m \u001b[0mcolumns\u001b[0m\u001b[0;34m,\u001b[0m \u001b[0mdtype\u001b[0m\u001b[0;34m=\u001b[0m\u001b[0mdtype\u001b[0m\u001b[0;34m)\u001b[0m\u001b[0;34m\u001b[0m\u001b[0m\n\u001b[0m\u001b[1;32m    460\u001b[0m \u001b[0;34m\u001b[0m\u001b[0m\n\u001b[1;32m    461\u001b[0m     \u001b[0;32mdef\u001b[0m \u001b[0m_init_ndarray\u001b[0m\u001b[0;34m(\u001b[0m\u001b[0mself\u001b[0m\u001b[0;34m,\u001b[0m \u001b[0mvalues\u001b[0m\u001b[0;34m,\u001b[0m \u001b[0mindex\u001b[0m\u001b[0;34m,\u001b[0m \u001b[0mcolumns\u001b[0m\u001b[0;34m,\u001b[0m \u001b[0mdtype\u001b[0m\u001b[0;34m=\u001b[0m\u001b[0mNone\u001b[0m\u001b[0;34m,\u001b[0m \u001b[0mcopy\u001b[0m\u001b[0;34m=\u001b[0m\u001b[0mFalse\u001b[0m\u001b[0;34m)\u001b[0m\u001b[0;34m:\u001b[0m\u001b[0;34m\u001b[0m\u001b[0m\n",
      "\u001b[0;32m/usr/local/lib/python2.7/dist-packages/pandas/core/frame.pyc\u001b[0m in \u001b[0;36m_arrays_to_mgr\u001b[0;34m(arrays, arr_names, index, columns, dtype)\u001b[0m\n\u001b[1;32m   7354\u001b[0m     \u001b[0;31m# figure out the index, if necessary\u001b[0m\u001b[0;34m\u001b[0m\u001b[0;34m\u001b[0m\u001b[0m\n\u001b[1;32m   7355\u001b[0m     \u001b[0;32mif\u001b[0m \u001b[0mindex\u001b[0m \u001b[0;32mis\u001b[0m \u001b[0mNone\u001b[0m\u001b[0;34m:\u001b[0m\u001b[0;34m\u001b[0m\u001b[0m\n\u001b[0;32m-> 7356\u001b[0;31m         \u001b[0mindex\u001b[0m \u001b[0;34m=\u001b[0m \u001b[0mextract_index\u001b[0m\u001b[0;34m(\u001b[0m\u001b[0marrays\u001b[0m\u001b[0;34m)\u001b[0m\u001b[0;34m\u001b[0m\u001b[0m\n\u001b[0m\u001b[1;32m   7357\u001b[0m \u001b[0;34m\u001b[0m\u001b[0m\n\u001b[1;32m   7358\u001b[0m     \u001b[0;31m# don't force copy because getting jammed in an ndarray anyway\u001b[0m\u001b[0;34m\u001b[0m\u001b[0;34m\u001b[0m\u001b[0m\n",
      "\u001b[0;32m/usr/local/lib/python2.7/dist-packages/pandas/core/frame.pyc\u001b[0m in \u001b[0;36mextract_index\u001b[0;34m(data)\u001b[0m\n\u001b[1;32m   7391\u001b[0m \u001b[0;34m\u001b[0m\u001b[0m\n\u001b[1;32m   7392\u001b[0m         \u001b[0;32mif\u001b[0m \u001b[0;32mnot\u001b[0m \u001b[0mindexes\u001b[0m \u001b[0;32mand\u001b[0m \u001b[0;32mnot\u001b[0m \u001b[0mraw_lengths\u001b[0m\u001b[0;34m:\u001b[0m\u001b[0;34m\u001b[0m\u001b[0m\n\u001b[0;32m-> 7393\u001b[0;31m             raise ValueError('If using all scalar values, you must pass'\n\u001b[0m\u001b[1;32m   7394\u001b[0m                              ' an index')\n\u001b[1;32m   7395\u001b[0m \u001b[0;34m\u001b[0m\u001b[0m\n",
      "\u001b[0;31mValueError\u001b[0m: If using all scalar values, you must pass an index"
     ]
    }
   ],
   "source": [
    "import pandas as pd\n",
    "\n",
    "df = pd.DataFrame({'Hello': 1.2})"
   ]
  },
  {
   "cell_type": "markdown",
   "metadata": {},
   "source": [
    "Some Python modules are written well enough that they display useful error messages, but not all are, so it may not be as simple to track down a problem (but [Google can be your friend](#Finding-coding-help)).\n",
    "\n",
    "A few general debugging hints are:\n",
    "\n",
    "* often bugs can be very simple syntax errors, so make sure:\n",
    " * all parentheses, apostrophes, and quotation marks, have opening and closing pairs;\n",
    " * values are separated by commas where required, i.e., in function calls;\n",
    " * there is correct and consistent [indentation](https://docs.python.org/2.0/ref/indentation.html) of lines in `for` loops and conditional statements `if...else...`.\n",
    "* if you can't find where the error is occurring in a long code block cell try breaking the code down into separate cells, or simpler steps, containing smaller chunks of code and running each individually. This may show where the problem is located;\n",
    "* use `print` to print out the values of any variables that seem to be causing problems - it could be that they contain odd or wrong data for some reason;\n",
    "* use the `%whos` [IPython magic command](https://ipython.readthedocs.io/en/stable/interactive/magics.html#magic-whos) to print out a list of currently defined variables and modules - it could be that you are trying to use a value that doesn't exist yet."
   ]
  },
  {
   "cell_type": "markdown",
   "metadata": {},
   "source": [
    "## Plotting\n",
    "\n",
    "Within a notebook you can use the excellent, and very powerful, Python plotting module, [Matplotlib](https://matplotlib.org/), to create plots and display them _inline_ within your notebook.\n",
    "\n",
    "To get plots to display in the notebook you have to use some [\"IPython magic\"](https://ipython.readthedocs.io/en/stable/interactive/magics.html), which in this case is including the line\n",
    "\n",
    "<div style=\"background-color: #f7f7f7; border: 1px solid #cfcfcf; border-radius: 2px; padding: 4px 4px 4px 4px; margin-top: 15px; margin-bottom: 15px; font-family: monospace\">\n",
    "%matplotlib inline\n",
    "</div>\n",
    "\n",
    "in a code cell before importing Matplotlib (it is often useful to always have this as the first line of your first code cell). You can, instead, use:\n",
    "\n",
    "<div style=\"background-color: #f7f7f7; border: 1px solid #cfcfcf; border-radius: 2px; padding: 4px 4px 4px 4px; margin-top: 15px; margin-bottom: 15px; font-family: monospace\">\n",
    "%matplotlib notebook\n",
    "</div>\n",
    "\n",
    "to allow for interactive plots.\n",
    "\n",
    "In the cell below I will just show a simple line plot using Matplotlib's [`pyplot`](https://matplotlib.org/api/pyplot_api.html) module [`plot`](https://matplotlib.org/api/pyplot_api.html#matplotlib.pyplot.plot) function (similar to Matlab's plot function, if you are familiar with that), using the sine wave calculated above."
   ]
  },
  {
   "cell_type": "code",
   "execution_count": 9,
   "metadata": {},
   "outputs": [
    {
     "data": {
      "text/plain": [
       "Text(0,0.5,u'Amplitude')"
      ]
     },
     "execution_count": 9,
     "metadata": {},
     "output_type": "execute_result"
    },
    {
     "data": {
      "image/png": "[encoded data removed]",
      "text/plain": [
       "<matplotlib.figure.Figure at 0x7f91df9c3a90>"
      ]
     },
     "metadata": {},
     "output_type": "display_data"
    }
   ],
   "source": [
    "%matplotlib inline\n",
    "\n",
    "# import Matplotlib's pyplot module aliased as plt\n",
    "from matplotlib import pyplot as plt\n",
    "\n",
    "# create a figure object (into which the plot will be added)\n",
    "fig, ax = plt.subplots()\n",
    "\n",
    "# create the plot using the plot function (very )\n",
    "ax.plot(times, wavesin, color='blue', linestyle='-')\n",
    "\n",
    "# add some axes labels\n",
    "ax.set_xlabel('Time (seconds)')\n",
    "ax.set_ylabel('Amplitude')"
   ]
  },
  {
   "cell_type": "markdown",
   "metadata": {},
   "source": [
    "If you use the interactive plot option, you can interactively resize it, zoom in on an area, or save it.\n",
    "\n",
    "Otherwise, to manually save the plot externally to the notebook you can use, e.g.:"
   ]
  },
  {
   "cell_type": "code",
   "execution_count": 10,
   "metadata": {},
   "outputs": [],
   "source": [
    "# save the figure as a png file and a pdf file\n",
    "fig.savefig('myplot.png', dpi=250)  # dpi sets resolution of the output plot in dots-per-inch\n",
    "fig.savefig('myplot.pdf')"
   ]
  },
  {
   "cell_type": "markdown",
   "metadata": {},
   "source": [
    "## Other advice\n",
    "\n",
    "### Version control\n",
    "\n",
    "It should go without saying that backing up your work is **very important**! An important aspect of backing things up is having a history of how your work has progressed. This, in particular, is useful for two (and probably many more) main reasons:\n",
    "\n",
    "1. you can go back and look at how you solved a problem, which can be useful when writing up any work based on you notebook;\n",
    "2. if you muck something up, change something you shouldn't have, or break your code in some way, then having an oft-backed-up history allows you to restore things to a state when they worked.\n",
    "\n",
    "A very useful free online version control repository is [Github](https://github.com/), which uses the [`git`](https://git-scm.com/) version control software (there is a learning curve that comes with using any version control software, and some of the basics of `git` can be found [here](https://git-scm.com/book/en/v1/Git-Basics), or the nice Github tutorial [here](https://guides.github.com/introduction/git-handbook/)). You can create unlimited repostories on this, which by default are completely public. If you are a student, or member of an educational establishment, you can [sign up here](https://education.github.com/students) to allow you to be able to create private repositories (which may be useful for storing lab reports).\n",
    "\n",
    "### Finding coding help\n",
    "\n",
    "When coding [Google](http://www.google.com) is your greatest friend. If you have a coding problem or question the chances are someone else has had that issue in the past, and they may well have asked the internet for help. If you can try and come up with a succinct sentence that describes your problem then typing that into Google may quickly give you an answer (becoming a [google-fu](https://www.urbandictionary.com/define.php?term=google-fu) master can be tricky though!) Or, if you have an error message in your code you can even try cut-and-pasting that straight into Google.\n",
    "\n",
    "Often that answer will come from a site such as [StackOverflow](https://stackoverflow.com/), which has a huge wealth of answers to all manner of coding questions. You should feel free to ask questions on StackOverflow yourself and you can often get an answer quite quickly - the community on there is usually nice but, as it is _\"the internet\"_ unfortunately there can be contributors who are quite condescending or snarky. If asking a question try to give as much information as possible about the nature of your problem, including a code snippet that would allow someone else to reproduce the problem if applicable (often known as a **m**inimal **w**orking **e**xample, or MWE). Try not to use it in a way that comes across as asking someone to _\"do my homework\"_, i.e., don't just say _\"I'm trying to write code for a Solar System simulator, can you tell me how?\"_.\n",
    "\n",
    "\n",
    "### Re-using code\n",
    "\n",
    "If you have a piece of code, in particular a class, function or block of data defined in a variable, that you want to re-use in multiple notebooks, it is worth having that code in a separate file, so it can be imported into all notebooks that need it (ultimately you could create your own [Python package](https://www.learnpython.org/en/Modules_and_Packages), but that is beyond the scope if this document).\n",
    "\n",
    "For example, you could create a file, called, say, `height.py` (maybe using the Jupyter Notebook's [file editor](https://jupyter-notebook.readthedocs.io/en/stable/ui_components.html#file-editor)), that contains:\n",
    "\n",
    "<div style=\"background-color: #f7f7f7; border: 1px solid #cfcfcf; border-radius: 2px; padding: 4px 4px 4px 4px; margin-top: 15px; margin-bottom: 15px; font-family: monospace\">\n",
    "import numpy as np  # import numpy<br/>\n",
    "<br/>\n",
    "# define some height data in cm<br/>\n",
    "height_data = [180.3, 176.2, 152.3, 177.5, 149.2, 156.7]<br/>\n",
    "<br/>\n",
    "def cm_to_feet_and_inches(height):<br/>\n",
    "&nbsp;&nbsp;&nbsp;&nbsp;\"\"\"<br/>\n",
    "&nbsp;&nbsp;&nbsp;&nbsp;Function to convert cm to feet and inches.<br/>\n",
    "&nbsp;&nbsp;&nbsp;&nbsp;\"\"\"<br/>\n",
    "<br/>\n",
    "&nbsp;&nbsp;&nbsp;&nbsp;feet = height/30.48  # convert to feet<br/>\n",
    "&nbsp;&nbsp;&nbsp;&nbsp;inches = 12.*(feet - np.floor(feet))  # get remainder in inches<br/>\n",
    "<br/>\n",
    "&nbsp;&nbsp;&nbsp;&nbsp;return np.floor(feet), inches\n",
    "</div>\n",
    "\n",
    "Provided `height.py` is in the same directory as your notebooks, you can import things from `height.py` into each notebook using, e.g.:\n",
    "\n",
    "<div style=\"background-color: #f7f7f7; border: 1px solid #cfcfcf; border-radius: 2px; padding: 4px 4px 4px 4px; margin-top: 15px; margin-bottom: 15px; font-family: monospace\">\n",
    "from height import height_data, cm_to_feet_and_inches\n",
    "</div>\n",
    "\n",
    "so that you can now use the `height_data` variable, and `cm_to_feet_and_inches` function in your notebook."
   ]
  },
  {
   "cell_type": "markdown",
   "metadata": {},
   "source": [
    "## Glossary\n",
    "\n",
    "A glossary of some terms:\n",
    "\n",
    "* <a name=\"dashboard\"></a>[Dashboard view](https://jupyter-notebook.readthedocs.io/en/stable/ui_components.html#notebook-dashboard): a browser window showing your directory structure on the Jupyter server with a tab to show any running notebooks. \n",
    "* <a name=\"notebook\"></a>[_Jupyter notebook_](https://jupyter.org/): _\"The Jupyter Notebook is an open-source web application that allows you to create and share documents that contain live code, equations, visualizations and narrative text.\"_\n",
    "* <a name=\"kernel\"></a>_kernel_: In the context of a Jupyter Notebook, the [‘kernel’](https://jupyter-client.readthedocs.io/en/stable/kernels.html#making-kernels-for-jupyter) is just the program that runs your code, e.g., a specific version of Python.\n",
    "* <a name=\"markdown\"></a>[_Markdown_](https://en.wikipedia.org/wiki/Markdown): a simple syntax for writing plain text that can be rendered more richly within a notebook cell."
   ]
  }
 ],
 "metadata": {
  "kernelspec": {
   "display_name": "Python 2",
   "language": "python",
   "name": "python2"
  },
  "language_info": {
   "codemirror_mode": {
    "name": "ipython",
    "version": 2
   },
   "file_extension": ".py",
   "mimetype": "text/x-python",
   "name": "python",
   "nbconvert_exporter": "python",
   "pygments_lexer": "ipython2",
   "version": "2.7.15rc1"
  }
 },
 "nbformat": 4,
 "nbformat_minor": 2
}
