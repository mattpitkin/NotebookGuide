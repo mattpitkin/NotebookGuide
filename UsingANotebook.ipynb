{
 "cells": [
  {
   "cell_type": "markdown",
   "metadata": {},
   "source": [
    "# Using a Jupyter Notebook\n",
    "\n",
    "So, what is a Jupyter Notebook? Well, to quote their [website](https://jupyter.org/) _\"[A] Jupyter Notebook is an open-source web application that allows you to create and share documents that contain live code, equations, visualizations and narrative text.\"_. What this means is that it provides an application that runs on a webserver, and can be accessed via a standard web browser, within which you can write and run code, make plots, and write notes, all on one place. This makes it particularly useful for lab work as you can document what you're doing as you do it.\n",
    "\n",
    "This document aims to give a very brief description, and some handy hints, to using a [Jupyter Notebook](#notebook) in your lab work. Here, I will only make reference to using a notebook with a Python [kernel](#kernel) (although kernels for [other languages](https://github.com/jupyter/jupyter/wiki/Jupyter-kernels) can be used!), but this will not provide a general introduction to Python, so for that you might want to look [elsewhere](https://www.google.com/search?q=python+tutorial+for+beginners). It is written particularly in mind of honours level undergraduate students in [Physics & Astronomy](https://www.gla.ac.uk/schools/physics/) at the [University of Glasgow](https://www.gla.ac.uk), and as such some comments will relate specifically them (which I'll highlight <span style=\"text-shadow: 0.5px 0.5px 0.5px lightgrey; border: 1px solid Azure; border-radius: 2px; background-color: Azure; box-shadow: 0.5px 0.5px 2px SkyBlue;\">with a box</span>), although most of the document should be generally applicable.\n",
    "\n",
    "The full documentation for Jupyter Notebooks can be found [here](https://jupyter-notebook.readthedocs.io). For a far more comprehensive guide to using Jupyter Notebooks in a learning and teaching environment there is an online book called [_\"Teaching and Learning with Jupyter\"_](https://jupyter4edu.github.io/jupyter-edu-book/), which may be useful."
   ]
  },
  {
   "cell_type": "markdown",
   "metadata": {},
   "source": [
    "## Getting started\n",
    "\n",
    "When you start a Jupyter Notebook you may be presented with a browser winder that looks like a directory tree structure\n",
    "\n",
    "<div style=\"box-shadow: 2px 2px 5px Gainsboro; margin-top: 15px\"> ![Tree](img/tree.png) </div>\n",
    "\n",
    "This is indeed a directory tree showing the directory structure of the path that you started the notebook in.\n",
    "\n",
    "<div style=\"margin-left: 25px; margin-right: 25px; margin-top: 15px; border: 1px solid Azure; border-radius: 2px; padding: 4px 4px 4px 4px; box-shadow: 0.5px 0.5px 2px SkyBlue; background-color: Azure; text-shadow: 0.5px 0.5px 0.5px lightgrey\">**Glasgow students**: on our internal Jupyter server this directory tree should be your own personal home directory on the server. You should see an `examples` directory that contains mainy useful examples, and some other advice on using a notebook.</div>\n",
    "\n",
    "If you were to click on the \"Running\" tab it would show you a list of any currently running notebooks.\n",
    "\n",
    "To start a new notebook you can click on the \"New\" button to reveal a dropdown menu of options as shown in the example below.\n",
    "\n",
    "<div style=\"box-shadow: 2px 2px 5px Gainsboro; margin-top: 15px\"> ![Tree with dropdown](img/treedropdown.png) </div>\n",
    "\n",
    "The dropdown menu options under the \"`Notebook:`\" title are the selection of different [kernels](#kernel) that you could run your notebook with. In particular, these kernels might include different version of Python, or could be based on [virtual environments](https://docs.python.org/3/tutorial/venv.html) running with certain Python packages pre-installed. You may only have one option to choose from. To start a new notebook just click on the kernel you want to use.\n",
    "\n",
    "<div style=\"margin-left: 25px; margin-right: 25px; margin-top: 15px; border: 1px solid Azure; border-radius: 2px; padding: 4px 4px 4px 4px; box-shadow: 0.5px 0.5px 2px SkyBlue; background-color: Azure; text-shadow: 0.5px 0.5px 0.5px lightgrey\"> **Glasgow students**: ask your lab demonstator which kernel you should use for your particular project, as some have certain useful packages pre-installed. In general, if there is no preference suggested just use the \"Python 3\" kernel.</div>\n",
    "\n",
    "> _Note_: in the dropdown menu there is also an \"`Other:`\" title, from which you can: open an empty text file to just do normal text editing; create a new folder; open a Linux terminal window in your home directory.\n",
    "\n",
    "When this opens you will be greeted by something looking like this:\n",
    "\n",
    "<div style=\"box-shadow: 2px 2px 5px Gainsboro; margin-top: 15px\"> ![Untitled Notebook](img/untitlednotebook.png)</div>\n",
    "\n",
    "We will go through some of the basic features of this panel which are highlighted below:\n",
    "\n",
    "<div style=\"box-shadow: 2px 2px 5px Gainsboro; margin-top: 15px\"> ![Untitled Notebook Features](img/notebookparts.png)</div>\n",
    "\n",
    "* **<font color=\"FireBrick\">Notebook title</font>**: by default a new notebook opens with the name \"Untitled\" (and will be saved as `Untitled.ipynb` in your directory) - if you already have a notebook called \"Untitled\" then a new notebook will be called \"Untitled-1\" and so on. To change the title, and also the associated file name, just click on the area highlighted by the image above and write in the title you would like."
   ]
  },
  {
   "cell_type": "markdown",
   "metadata": {},
   "source": [
    "## Debugging"
   ]
  },
  {
   "cell_type": "markdown",
   "metadata": {},
   "source": [
    "## Markdown"
   ]
  },
  {
   "cell_type": "markdown",
   "metadata": {},
   "source": [
    "## Plotting"
   ]
  },
  {
   "cell_type": "markdown",
   "metadata": {},
   "source": [
    "## Non-Jupyter/Python advice\n",
    "\n",
    "### Version control\n",
    "\n",
    "It should go without saying that backing up your work is **very important**! An important aspect of backing things up is having a history of how your work has progressed. This, in particular is useful for two (and probably many more) main reasons: i) you can go back and look at how you solved a problem, which can be useful when writing up you report, ii) if you muck something up, changes something you shouldn't have, or break your code in some way, then having a oft-backed-up history allows you to restore things to a state when they worked.\n",
    "\n",
    "### Finding help/debugging\n",
    "\n",
    "When coding [Google](http://www.google.com) is your greatest friend. If you have a coding problem or question the chances are someone else has had that issue in the past, and they may well have asked the internet for help. If you can try and come up with a succinct sentence that describes your problem then typing that into Google may quickly give you an answer (becoming a [google-fu](https://www.urbandictionary.com/define.php?term=google-fu) master can be tricky). Often that answer will come from a site such as [StackOverflow](https://stackoverflow.com/), which has a huge wealth of answers to all manner of coding questions. You should feel free to ask questions on StackOverflow yourself and you can often get an answer quite quickly - the community on there is usually nice, but unfortunetaly there are contributors who can be quite rude or snarky. If asking a question try to give as much information as possible about the nature of your problem, including a code snippet that would allow someone else to reproduce the problem if applicable (often known as a **m**inimal **w**orking **e**xample, or MWE). Try not to use it in a way that comes across as asking someone to _\"do my homework\"_, i.e., don't just say _\"I'm trying to write code for a Solar System simulator, can you tell me how?\"_.\n",
    "\n",
    "If you encounter a code problem try and break it down to the point at which the code fails."
   ]
  },
  {
   "cell_type": "markdown",
   "metadata": {},
   "source": [
    "## Glossary\n",
    "\n",
    "A glossary of some terms:\n",
    "\n",
    "* <a name=\"notebook\"></a>[_Jupyter notebook_](https://jupyter.org/): _\"The Jupyter Notebook is an open-source web application that allows you to create and share documents that contain live code, equations, visualizations and narrative text.\"_\n",
    "* <a name=\"kernel\"></a>_kernel_: In the context of a Jupyter Notebook, the [‘kernel’](https://jupyter-client.readthedocs.io/en/stable/kernels.html#making-kernels-for-jupyter) is just the program that runs your code, e.g., a specific version of Python.\n",
    "* [_Markdown_](https://en.wikipedia.org/wiki/Markdown): a simple syntax for writing plain text that can be rendered more richly within a notebook cell."
   ]
  },
  {
   "cell_type": "code",
   "execution_count": null,
   "metadata": {
    "collapsed": true
   },
   "outputs": [],
   "source": []
  }
 ],
 "metadata": {
  "kernelspec": {
   "display_name": "Python 2",
   "language": "python",
   "name": "python2"
  },
  "language_info": {
   "codemirror_mode": {
    "name": "ipython",
    "version": 2
   },
   "file_extension": ".py",
   "mimetype": "text/x-python",
   "name": "python",
   "nbconvert_exporter": "python",
   "pygments_lexer": "ipython2",
   "version": "2.7.12"
  }
 },
 "nbformat": 4,
 "nbformat_minor": 2
}
